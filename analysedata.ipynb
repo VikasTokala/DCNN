{
 "cells": [
  {
   "cell_type": "code",
   "execution_count": null,
   "id": "be12014f",
   "metadata": {},
   "outputs": [],
   "source": [
    "from analyze_model import analyze_dataset\n",
    "\n",
    "analyze_dataset(config)"
   ]
  },
  {
   "cell_type": "code",
   "execution_count": null,
   "id": "89e814b0",
   "metadata": {},
   "outputs": [],
   "source": []
  }
 ],
 "metadata": {
  "kernelspec": {
   "display_name": "tensorflow",
   "language": "python",
   "name": "python3"
  },
  "language_info": {
   "codemirror_mode": {
    "name": "ipython",
    "version": 3
   },
   "file_extension": ".py",
   "mimetype": "text/x-python",
   "name": "python",
   "nbconvert_exporter": "python",
   "pygments_lexer": "ipython3",
   "version": "3.9.9 | packaged by conda-forge | (main, Dec 20 2021, 02:41:07) \n[Clang 11.1.0 ]"
  },
  "vscode": {
   "interpreter": {
    "hash": "4bd624a0593993fe43ac4046b27b898fb2ef75c21c08f81e89e64ea0f51df676"
   }
  }
 },
 "nbformat": 4,
 "nbformat_minor": 5
}
