{
 "cells": [
  {
   "cell_type": "markdown",
   "id": "1726ec94",
   "metadata": {},
   "source": [
    "## 0. Imports"
   ]
  },
  {
   "cell_type": "code",
   "execution_count": null,
   "id": "df1b2799",
   "metadata": {},
   "outputs": [],
   "source": [
    "#!pip install hydra-core\n",
    "import torch\n",
    "import matplotlib.pyplot as plt\n",
    "import numpy as np\n",
    "\n",
    "from hydra.core.global_hydra import GlobalHydra\n",
    "from hydra import compose, initialize\n",
    "\n",
    "import sys\n",
    "\n",
    "sys.path.append(\"../\")\n",
    "\n",
    "from DCNN.datasets.base_dataset import BaseDataset\n",
    "from DCNN.model import DCNN\n",
    "from DCNN.trainer import DCNNLightniningModule\n",
    "\n",
    "GlobalHydra.instance().clear()\n",
    "initialize(config_path=\"../config\")\n",
    "config = compose(\"config\")\n",
    "\n",
    "MODEL_CHECKPOINT_PATH = \"./weights-epoch=19-validation_loss=-17.90.ckpt\"\n",
    "NOISY_DATASET_PATH = \"/Users/vtokala/Documents/Research/di_nn/Dataset/noisy_testset_1f\"\n",
    "CLEAN_DATASET_PATH = '/Users/vtokala/Documents/Research/di_nn/Dataset/clean_testset_1f'"
   ]
  },
  {
   "cell_type": "markdown",
   "id": "e9b48e45",
   "metadata": {},
   "source": []
  },
  {
   "cell_type": "markdown",
   "id": "98ce19df",
   "metadata": {},
   "source": [
    "## 1. Load model and dataset"
   ]
  },
  {
   "cell_type": "code",
   "execution_count": null,
   "id": "e0659dde",
   "metadata": {},
   "outputs": [],
   "source": [
    "dataset = BaseDataset(NOISY_DATASET_PATH,CLEAN_DATASET_PATH)\n",
    "\n",
    "dataloader = torch.utils.data.DataLoader(\n",
    "    dataset,\n",
    "    batch_size=1,\n",
    "    shuffle=False,\n",
    "    pin_memory=True,\n",
    "    drop_last=False,\n",
    "    num_workers=1\n",
    ")\n",
    "\n",
    "dataloader = iter(dataloader)\n",
    "\n",
    "model = DCNNLightniningModule(config)\n",
    "model.eval()\n",
    "torch.set_grad_enabled(False)\n",
    "checkpoint = torch.load(MODEL_CHECKPOINT_PATH, map_location=torch.device('cpu'))\n",
    "model.load_state_dict(checkpoint[\"state_dict\"])\n"
   ]
  },
  {
   "cell_type": "markdown",
   "id": "f5217464",
   "metadata": {},
   "source": [
    "## 2. Evaluate dataset samples on model"
   ]
  },
  {
   "cell_type": "code",
   "execution_count": null,
   "id": "3e5e2099",
   "metadata": {},
   "outputs": [],
   "source": [
    "while True:\n",
    "    try:\n",
    "        batch = next(dataloader)\n",
    "    except StopIteration:\n",
    "        break\n",
    "    model_output = model(batch[0])[0].numpy()\n",
    "\n",
    "    true_coords = batch[1][\"source_coordinates\"][0].numpy()\n",
    "    \n",
    "    print(\"True vs estimated coordinates:\", true_coords, model_output)\n",
    "    #print(\"Predicted coordinates:\", model_output)\n",
    "    print(\"Error (meters):\", np.linalg.norm(true_coords - model_output))\n",
    "    print(\"\\n\")"
   ]
  },
  {
   "cell_type": "code",
   "execution_count": null,
   "id": "d7ca3df0",
   "metadata": {},
   "outputs": [],
   "source": []
  }
 ],
 "metadata": {
  "interpreter": {
   "hash": "4bd624a0593993fe43ac4046b27b898fb2ef75c21c08f81e89e64ea0f51df676"
  },
  "kernelspec": {
   "display_name": "Python 3.9.9 ('tensorflow')",
   "language": "python",
   "name": "python3"
  },
  "language_info": {
   "codemirror_mode": {
    "name": "ipython",
    "version": 3
   },
   "file_extension": ".py",
   "mimetype": "text/x-python",
   "name": "python",
   "nbconvert_exporter": "python",
   "pygments_lexer": "ipython3",
   "version": "3.9.9"
  }
 },
 "nbformat": 4,
 "nbformat_minor": 5
}
