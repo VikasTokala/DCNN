{
 "cells": [
  {
   "cell_type": "markdown",
   "metadata": {},
   "source": [
    "### Computation of \"Isotropicness\" of the Residual Noise\n",
    "\n"
   ]
  },
  {
   "cell_type": "code",
   "execution_count": 4,
   "metadata": {},
   "outputs": [],
   "source": [
    "# Calculation of the residual noise in the STFT domain\n",
    "import torch\n",
    "import torchaudio\n",
    "import soundfile as sf\n",
    "import numpy as np\n",
    "from DCNN.feature_extractors import Stft, IStft\n",
    "win_len = 400\n",
    "win_inc = 100\n",
    "fft_len = 512\n",
    "fbins = int(fft_len/2 + 1)\n",
    "fs = 16000\n",
    "\n",
    "stft = Stft(n_dft=fft_len, hop_size=win_inc, win_length=win_len)\n",
    "istft = IStft(n_dft=fft_len, hop_size=win_inc, win_length=win_len)\n"
   ]
  },
  {
   "cell_type": "markdown",
   "metadata": {},
   "source": [
    " ### Compute individual gains for from the enhanced and noisy signals in the STFT domain"
   ]
  },
  {
   "cell_type": "code",
   "execution_count": 5,
   "metadata": {},
   "outputs": [],
   "source": [
    "sig_noisy,_ = torchaudio.load('/Users/vtokala/Documents/Research/Databases/Dataset_Binaural_2S/ICASSP_Testset/isoNoiseCoh/Noisy_input/p278_056_1_0dB.wav')\n",
    "sig_enhanced_snr,_ = torchaudio.load('/Users/vtokala/Documents/Research/Databases/Dataset_Binaural_2S/ICASSP_Testset/isoNoiseCoh/p278_056_1_SNR.wav')\n",
    "sig_enhanced_pl,_ = torchaudio.load('/Users/vtokala/Documents/Research/Databases/Dataset_Binaural_2S/ICASSP_Testset/isoNoiseCoh/p278_056_1_SNR_PL.wav')\n",
    "iso_noise,_ = torchaudio.load('/Users/vtokala/Documents/Research/Databases/Dataset_Binaural_2S/ICASSP_Testset/isoNoiseCoh/isoNoise.wav')\n",
    "sig_enhanced_bt,_ = torchaudio.load('/Users/vtokala/Documents/Research/Databases/Dataset_Binaural_2S/ICASSP_Testset/isoNoiseCoh/p278_056_1_BT.wav')\n",
    "sig_enhanced_bsobm,srb = torchaudio.load('/Users/vtokala/Documents/Research/Databases/Dataset_Binaural_2S/ICASSP_Testset/isoNoiseCoh/p278_056_1_bsobm.wav')\n",
    "sig_noisy_bsobm,_ = torchaudio.load('/Users/vtokala/Documents/Research/Databases/Dataset_Binaural_2S/ICASSP_Testset/isoNoiseCoh/p278_056_1_noisy_bsobm.wav')"
   ]
  },
  {
   "cell_type": "code",
   "execution_count": 6,
   "metadata": {},
   "outputs": [],
   "source": [
    "S_hat_l_pl = stft(sig_enhanced_pl[0,:])\n",
    "S_hat_r_pl = stft(sig_enhanced_pl[1,:])\n",
    "\n",
    "S_hat_l_bsobm = stft(sig_enhanced_bsobm[0,:])\n",
    "S_hat_r_bsobm = stft(sig_enhanced_bsobm[1,:])\n",
    "\n",
    "X_l = stft(sig_noisy[0,:])\n",
    "X_r = stft(sig_noisy[1,:])\n",
    "\n",
    "X_l_bsobm = stft(sig_noisy_bsobm[0,:])\n",
    "X_r_bsobm = stft(sig_noisy_bsobm[1,:])\n",
    "\n",
    "S_hat_l_snr = stft(sig_enhanced_snr[0,:])\n",
    "S_hat_r_snr = stft(sig_enhanced_snr[1,:])\n",
    "\n",
    "S_hat_l_bt = stft(sig_enhanced_bt[0,:])\n",
    "S_hat_r_bt = stft(sig_enhanced_bt[1,:])\n",
    "\n",
    "V_l = stft(iso_noise[0,:])\n",
    "V_r = stft(iso_noise[1,:])\n",
    "\n",
    "G_l_pl = S_hat_l_pl / X_l # Gain applied the signal for enhancement - typically the CRM output of the network\n",
    "G_r_pl = S_hat_r_pl / X_r\n",
    "\n",
    "G_l_snr = S_hat_l_snr / X_l # Gain applied the signal for enhancement - typically the CRM output of the network\n",
    "G_r_snr = S_hat_r_snr / X_r \n",
    "\n",
    "G_l_bt = S_hat_l_bt / X_l\n",
    "G_r_bt = S_hat_r_bt / X_r\n",
    "\n",
    "# G_l_bsobm = S_hat_l_bsobm / X_l_bsobm\n",
    "# G_r_bsobm = S_hat_r_bsobm / X_r_bsobm\n",
    "\n",
    "V_hat_l_pl = G_l_pl * V_l\n",
    "V_hat_r_pl = G_r_pl * V_r\n",
    "\n",
    "\n",
    "V_hat_l_snr = G_l_snr * V_l\n",
    "V_hat_r_snr = G_r_snr * V_r\n",
    "\n",
    "V_hat_l_bt = G_l_bt * V_l\n",
    "V_hat_r_bt = G_r_bt * V_r\n",
    "\n",
    "# V_hat_l_bsobm = G_l_bsobm * V_l\n",
    "# V_hat_r_bsobm = G_r_bsobm * V_r\n",
    "\n",
    "\n",
    "\n",
    "\n"
   ]
  },
  {
   "cell_type": "code",
   "execution_count": 7,
   "metadata": {},
   "outputs": [
    {
     "data": {
      "text/plain": [
       "torch.Size([257, 320])"
      ]
     },
     "execution_count": 7,
     "metadata": {},
     "output_type": "execute_result"
    }
   ],
   "source": [
    "\n",
    "S_hat_l_pl.shape"
   ]
  },
  {
   "cell_type": "code",
   "execution_count": 8,
   "metadata": {},
   "outputs": [],
   "source": [
    "v_hat_l_pl = istft(V_hat_l_pl)\n",
    "v_hat_r_pl = istft(V_hat_r_pl)\n",
    "\n",
    "v_hat_l_snr = istft(V_hat_l_snr)\n",
    "v_hat_r_snr = istft(V_hat_r_snr)\n",
    "\n",
    "v_hat_l_bt = istft(V_hat_l_bt)\n",
    "v_hat_r_bt = istft(V_hat_r_bt)\n",
    "\n",
    "# v_hat_l_bsobm = istft(V_hat_l_bsobm)\n",
    "# v_hat_r_bsobm = istft(V_hat_r_bsobm)\n",
    "\n",
    "v_hat_pl = torch.stack([v_hat_l_pl, v_hat_r_pl], dim=1)\n",
    "v_hat_snr = torch.stack([v_hat_l_snr, v_hat_r_snr], dim=1)\n",
    "v_hat_bt = torch.stack([v_hat_l_bt, v_hat_r_bt], dim=1)\n",
    "# v_hat_bsobm = torch.stack([v_hat_l_bsobm,v_hat_r_bsobm],dim=1)\n",
    "\n",
    "\n",
    "DATASET_PATH = '/Users/vtokala/Documents/Research/Databases/Dataset_Binaural_2S/ICASSP_Testset/isoNoiseCoh/'\n",
    "\n"
   ]
  },
  {
   "cell_type": "code",
   "execution_count": 9,
   "metadata": {},
   "outputs": [
    {
     "data": {
      "text/plain": [
       "torch.Size([31900, 2])"
      ]
     },
     "execution_count": 9,
     "metadata": {},
     "output_type": "execute_result"
    }
   ],
   "source": [
    "v_hat_bt.shape"
   ]
  },
  {
   "cell_type": "code",
   "execution_count": 10,
   "metadata": {},
   "outputs": [],
   "source": [
    "sf.write(DATASET_PATH + \"resNoise_pl.wav\", v_hat_pl.numpy(), 16000)\n",
    "sf.write(DATASET_PATH + \"resNoise_snr.wav\", v_hat_snr.numpy(), 16000)\n",
    "sf.write(DATASET_PATH + \"resNoise_bt.wav\", v_hat_bt.numpy(), 16000)\n",
    "# sf.write(DATASET_PATH + \"resNoise_bsobm.wav\", v_hat_bsobm.numpy(), 10000)"
   ]
  }
 ],
 "metadata": {
  "kernelspec": {
   "display_name": "tensorflow",
   "language": "python",
   "name": "python3"
  },
  "language_info": {
   "codemirror_mode": {
    "name": "ipython",
    "version": 3
   },
   "file_extension": ".py",
   "mimetype": "text/x-python",
   "name": "python",
   "nbconvert_exporter": "python",
   "pygments_lexer": "ipython3",
   "version": "3.9.9"
  }
 },
 "nbformat": 4,
 "nbformat_minor": 2
}
