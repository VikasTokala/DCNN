{
 "cells": [
  {
   "cell_type": "code",
   "execution_count": 1,
   "id": "6a1bff2d",
   "metadata": {},
   "outputs": [],
   "source": [
    "import torch\n",
    "import matplotlib.pyplot as plt\n",
    "import numpy as np\n",
    "import librosa\n",
    "import IPython.display as ipd\n"
   ]
  },
  {
   "cell_type": "code",
   "execution_count": 2,
   "id": "ed3b3f9c",
   "metadata": {},
   "outputs": [],
   "source": [
    "from hydra.core.global_hydra import GlobalHydra\n",
    "from hydra import compose, initialize\n",
    "\n",
    "import sys\n",
    "\n",
    "sys.path.append(\"/Users/vtokala/Documents/Research/di_nn\")"
   ]
  },
  {
   "cell_type": "code",
   "execution_count": 3,
   "id": "0adac1c8",
   "metadata": {},
   "outputs": [],
   "source": [
    "from DCNN.datasets.base_dataset import BaseDataset\n"
   ]
  },
  {
   "cell_type": "code",
   "execution_count": 4,
   "id": "37513174",
   "metadata": {},
   "outputs": [],
   "source": [
    "from DCNN.model import DCNN\n"
   ]
  },
  {
   "cell_type": "code",
   "execution_count": null,
   "id": "246011b8",
   "metadata": {},
   "outputs": [],
   "source": [
    "from DCNN.trainer import DCNNLightniningModule"
   ]
  }
 ],
 "metadata": {
  "kernelspec": {
   "display_name": "Python 3.9 (tensorflow)",
   "language": "python",
   "name": "tensorflow"
  },
  "language_info": {
   "codemirror_mode": {
    "name": "ipython",
    "version": 3
   },
   "file_extension": ".py",
   "mimetype": "text/x-python",
   "name": "python",
   "nbconvert_exporter": "python",
   "pygments_lexer": "ipython3",
   "version": "3.9.9"
  }
 },
 "nbformat": 4,
 "nbformat_minor": 5
}
